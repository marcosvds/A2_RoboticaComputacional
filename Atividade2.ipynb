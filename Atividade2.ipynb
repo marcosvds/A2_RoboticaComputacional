# -*- coding: utf-8 -*-
"""
Created on Wed Feb 26 13:19:51 2020

@author: Enrico Damiani
"""

import cv2
from matplotlib import pyplot as plt
import numpy as np
import time as t
import sys
import math

from ipywidgets import widgets, interact, interactive, FloatSlider, IntSlider

import auxiliar as aux

if (sys.version_info > (3, 0)): 
    # Modo Python 3
    import importlib
    importlib.reload(aux) # Para garantir que o Jupyter sempre relê seu trabalho
else:
    # Modo Python 2
    reload(aux)



def auto_canny(image, sigma=0.33):
    # compute the median of the single channel pixel intensities
    v = np.median(image)

    # apply automatic Canny edge detection using the computed median
    lower = int(max(0, (1.0 - sigma) * v))
    upper = int(min(255, (1.0 + sigma) * v))
    edged = cv2.Canny(image, lower, upper)

    # return the edged image
    return edged



    
colorpicker_blue  = '#013068'
colorpicker_pink = '#630e18'

hsv1_b, hsv2_b = aux.ranges(colorpicker_blue)
hsv1_p, hsv2_p = aux.ranges(colorpicker_pink)


cap = cv2.VideoCapture(0)
cap.set(cv2.CAP_PROP_FRAME_WIDTH, 3840)
cap.set(cv2.CAP_PROP_FRAME_HEIGHT, 2160)



while(True):
    # Capture frame-by-frame
    ret, frame = cap.read()

    # Our operations on the frame come here
    img_rgb = cv2.cvtColor(frame, cv2.COLOR_BGR2RGB)
    img_gray = cv2.cvtColor(img_rgb, cv2.COLOR_RGB2GRAY)
    img_hsv = cv2.cvtColor(img_rgb, cv2.COLOR_RGB2HSV)
    mask_b = cv2.inRange(img_hsv, hsv1_b, hsv2_b)
    mask_p = cv2.inRange(img_hsv, hsv1_p, hsv2_p) 
    maskf = mask_b + mask_p
    not_mask = cv2.bitwise_not(maskf)
    res = cv2.bitwise_and(img_gray,img_gray, mask = not_mask)
    res2 = cv2.bitwise_and(frame,frame, mask= maskf)
    img_mask = cv2.cvtColor(res, cv2.COLOR_GRAY2RGB)
    final = cv2.bitwise_or(res2, img_mask)
    

    gray = cv2.cvtColor(frame, cv2.COLOR_BGR2GRAY)
    blur = cv2.GaussianBlur(gray,(5,5),0)
    bordas = auto_canny(blur)
    circles = []
    # HoughCircles - detects circles using the Hough Method. For an explanation of
    # param1 and param2 please see an explanation here http://www.pyimagesearch.com/2014/07/21/detecting-circles-images-using-opencv-hough-circles/
    circles = None
    circles=cv2.HoughCircles(bordas,cv2.HOUGH_GRADIENT,2,40,param1=50,param2=100,minRadius=5,maxRadius=60)

    if circles is not None:        
        circles = np.uint16(np.around(circles))
        for i in circles[0,:]:
            print(i)
            # draw the outer circle
            # cv2.circle(img, center, radius, color[, thickness[, lineType[, shift]]])
            cv2.circle(final,(i[0],i[1]),i[2],(0,255,0),2)
            # draw the center of the circle
            cv2.circle(final,(i[0],i[1]),2,(0,0,255),3)
            cv2.line(final, (i[0],i[1]), ((i+1)[0],(i+1)[1]), color, thickness=1, lineType=8, shift=0) 


    # Display the resulting frame
    cv2.imshow('frame',final)
    if cv2.waitKey(1) & 0xFF == ord('q'):
        break

# When everything done, release the capture
cap.release()
cv2.destroyAllWindows()
